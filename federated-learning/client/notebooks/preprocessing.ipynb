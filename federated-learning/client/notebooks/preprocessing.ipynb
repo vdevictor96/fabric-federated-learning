{
 "cells": [
  {
   "cell_type": "code",
   "execution_count": null,
   "metadata": {},
   "outputs": [
    {
     "name": "stdout",
     "output_type": "stream",
     "text": [
      "['/home/victor/_bcfl/fabric-federated-learning/federated-learning/client/notebooks', '/home/victor/anaconda3/envs/bcfl-fabric/lib/python311.zip', '/home/victor/anaconda3/envs/bcfl-fabric/lib/python3.11', '/home/victor/anaconda3/envs/bcfl-fabric/lib/python3.11/lib-dynload', '', '/home/victor/anaconda3/envs/bcfl-fabric/lib/python3.11/site-packages', '/home/victor/_bcfl/fabric-federated-learning/federated-learning', '/tmp/tmpr0qr73zu', '/home/victor/_bcfl/fabric-federated-learning/federated-learning', '/home/victor/_bcfl/fabric-federated-learning/federated-learning']\n",
      "The autoreload extension is already loaded. To reload it, use:\n",
      "  %reload_ext autoreload\n"
     ]
    }
   ],
   "source": [
    "\n",
    "import os\n",
    "os.chdir('/home/victor/_bcfl/fabric-federated-learning/federated-learning')  # Replace with the path to your project\n",
    "import sys\n",
    "sys.path.append('/home/victor/_bcfl/fabric-federated-learning/federated-learning')  # Replace with the path to your models directory\n",
    "print(sys.path)\n",
    "\n",
    "%load_ext autoreload\n",
    "%autoreload 2\n",
    "\n"
   ]
  },
  {
   "cell_type": "code",
   "execution_count": 1,
   "metadata": {},
   "outputs": [
    {
     "name": "stdout",
     "output_type": "stream",
     "text": [
      "['/local/vpaloma/fabric-federated-learning/federated-learning/client/notebooks', '/NS/fabric-federated-learning/work/anaconda3/envs/bcfl-fabric/lib/python311.zip', '/NS/fabric-federated-learning/work/anaconda3/envs/bcfl-fabric/lib/python3.11', '/NS/fabric-federated-learning/work/anaconda3/envs/bcfl-fabric/lib/python3.11/lib-dynload', '', '/NS/fabric-federated-learning/work/anaconda3/envs/bcfl-fabric/lib/python3.11/site-packages', '/local/vpaloma/fabric-federated-learning/federated-learning']\n"
     ]
    }
   ],
   "source": [
    "\n",
    "# Execute on MPI cluster\n",
    "import os\n",
    "os.chdir('/local/vpaloma/fabric-federated-learning/federated-learning')  # Replace with the path to your project\n",
    "import sys\n",
    "sys.path.append('/local/vpaloma/fabric-federated-learning/federated-learning')  # Replace with the path to your models directory\n",
    "print(sys.path)\n",
    "\n",
    "%load_ext autoreload\n",
    "%autoreload 2\n",
    "\n"
   ]
  },
  {
   "cell_type": "code",
   "execution_count": 8,
   "metadata": {},
   "outputs": [
    {
     "name": "stdout",
     "output_type": "stream",
     "text": [
      "Balanced dataset saved to client/data/datasets/twitter_dep/twitter_dep_train_balanced.csv\n"
     ]
    }
   ],
   "source": [
    "from client.data.utils import split_csv_dataset_train_test, balance_train_split\n",
    "\n",
    "root = 'client/data/datasets/twitter_dep/twitter_dep_full.xlsx'\n",
    "train_val_split = 'client/data/datasets/twitter_dep/twitter_dep_train.csv'\n",
    "test_split = 'client/data/datasets/twitter_dep/twitter_dep_test.csv'\n",
    "balanced_train_split = 'client/data/datasets/twitter_dep/twitter_dep_train_balanced.csv'\n",
    "# split_csv_dataset_train_test(root, train_val_split, test_split, 0.2)\n",
    "balance_train_split(train_val_split, balanced_train_split)\n"
   ]
  }
 ],
 "metadata": {
  "kernelspec": {
   "display_name": "bcfl-fabric",
   "language": "python",
   "name": "python3"
  },
  "language_info": {
   "codemirror_mode": {
    "name": "ipython",
    "version": 3
   },
   "file_extension": ".py",
   "mimetype": "text/x-python",
   "name": "python",
   "nbconvert_exporter": "python",
   "pygments_lexer": "ipython3",
   "version": "3.11.5"
  }
 },
 "nbformat": 4,
 "nbformat_minor": 2
}
