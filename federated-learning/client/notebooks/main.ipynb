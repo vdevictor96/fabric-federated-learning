{
 "cells": [
  {
   "cell_type": "code",
   "execution_count": 1,
   "metadata": {},
   "outputs": [
    {
     "name": "stdout",
     "output_type": "stream",
     "text": [
      "['/home/victor/_bcfl/fabric-federated-learning/federated-learning/client/notebooks', '/home/victor/anaconda3/envs/bcfl-fabric/lib/python311.zip', '/home/victor/anaconda3/envs/bcfl-fabric/lib/python3.11', '/home/victor/anaconda3/envs/bcfl-fabric/lib/python3.11/lib-dynload', '', '/home/victor/anaconda3/envs/bcfl-fabric/lib/python3.11/site-packages', '/home/victor/_bcfl/fabric-federated-learning/federated-learning']\n"
     ]
    }
   ],
   "source": [
    "\n",
    "import os\n",
    "os.chdir('/home/victor/_bcfl/fabric-federated-learning/federated-learning')  # Replace with the path to your project\n",
    "import sys\n",
    "sys.path.append('/home/victor/_bcfl/fabric-federated-learning/federated-learning')  # Replace with the path to your models directory\n",
    "print(sys.path)\n",
    "\n",
    "%load_ext autoreload\n",
    "%autoreload 2\n"
   ]
  },
  {
   "cell_type": "code",
   "execution_count": 8,
   "metadata": {},
   "outputs": [
    {
     "name": "stdout",
     "output_type": "stream",
     "text": [
      "\n",
      "-------- Loading configuration --------\n",
      "Current configuration:\n",
      "{\n",
      "    \"dataset\": \"client/data/datasets/reddit_dep/dep1_cleaned_train.csv\",\n",
      "    \"device\": \"cuda\",\n",
      "    \"eval_batch_size\": 2,\n",
      "    \"eval_flag\": true,\n",
      "    \"eval_size\": 0.2,\n",
      "    \"learning_rate\": 6e-05,\n",
      "    \"max_length\": 512,\n",
      "    \"model\": \"bert_tiny\",\n",
      "    \"model_name\": \"my_bert_tiny_favourite_model\",\n",
      "    \"models_path\": \"client/data/models/bert_tiny\",\n",
      "    \"num_epochs\": 10,\n",
      "    \"optimizer\": \"AdamW\",\n",
      "    \"progress_bar_flag\": false,\n",
      "    \"scheduler\": \"linear\",\n",
      "    \"scheduler_warmup_steps\": 0,\n",
      "    \"seed\": 200,\n",
      "    \"train_batch_size\": 4,\n",
      "    \"train_size\": 0.8\n",
      "}\n",
      "-------- Configuration loaded --------\n",
      "\n",
      "-------- Setting device --------\n",
      "CUDA device selected but not available. Using CPU instead.\n",
      "-------- Device set --------\n",
      "\n",
      "-------- Creating Model --------\n",
      "Some weights of BertForSequenceClassification were not initialized from the model checkpoint at prajjwal1/bert-tiny and are newly initialized: ['classifier.weight', 'classifier.bias']\n",
      "You should probably TRAIN this model on a down-stream task to be able to use it for predictions and inference.\n",
      "-------- Model created --------\n",
      "\n",
      "-------- Creating Tokenizer --------\n",
      "-------- Tokenizer created --------\n"
     ]
    }
   ],
   "source": [
    "!python -m client.main --config_file ./client/config/bert_tiny_config.json"
   ]
  },
  {
   "cell_type": "code",
   "execution_count": 6,
   "metadata": {},
   "outputs": [
    {
     "name": "stderr",
     "output_type": "stream",
     "text": [
      "Some weights of BertForSequenceClassification were not initialized from the model checkpoint at prajjwal1/bert-tiny and are newly initialized: ['classifier.weight', 'classifier.bias']\n",
      "You should probably TRAIN this model on a down-stream task to be able to use it for predictions and inference.\n"
     ]
    },
    {
     "name": "stdout",
     "output_type": "stream",
     "text": [
      "\n",
      "-------- Loading configuration --------\n",
      "Current configuration:\n",
      "{\n",
      "    \"dataset\": \"client/data/datasets/reddit_dep/dep1_cleaned_train.csv\",\n",
      "    \"device\": \"cuda\",\n",
      "    \"eval_batch_size\": 2,\n",
      "    \"eval_flag\": true,\n",
      "    \"eval_size\": 0.2,\n",
      "    \"learning_rate\": 6e-05,\n",
      "    \"max_length\": 512,\n",
      "    \"model\": \"bert_tiny\",\n",
      "    \"model_name\": \"my_bert_tiny_favourite_model\",\n",
      "    \"models_path\": \"client/data/models/bert_tiny\",\n",
      "    \"num_epochs\": 10,\n",
      "    \"optimizer\": \"AdamW\",\n",
      "    \"progress_bar_flag\": false,\n",
      "    \"scheduler\": \"linear\",\n",
      "    \"scheduler_warmup_steps\": 0,\n",
      "    \"seed\": 200,\n",
      "    \"train_batch_size\": 4,\n",
      "    \"train_size\": 0.8\n",
      "}\n",
      "-------- Configuration loaded --------\n",
      "\n",
      "-------- Setting device --------\n",
      "CUDA device selected but not available. Using CPU instead.\n",
      "-------- Device set --------\n",
      "\n",
      "-------- Creating Model --------\n",
      "-------- Model created --------\n",
      "\n",
      "-------- Creating Tokenizer --------\n",
      "-------- Tokenizer created --------\n"
     ]
    }
   ],
   "source": [
    "from client.main import main\n",
    "import sys\n",
    "\n",
    "\n",
    "# Backup the original sys.argv\n",
    "original_argv = sys.argv\n",
    "\n",
    "try:\n",
    "    # Replace sys.argv with the arguments you want to pass\n",
    "    sys.argv = ['main', '--config_file', 'client/config/bert_tiny_config.json']\n",
    "    \n",
    "    # Now call main, and it will use the arguments you set\n",
    "    main()\n",
    "finally:\n",
    "    # Restore the original sys.argv\n",
    "    sys.argv = original_argv\n",
    "    "
   ]
  }
 ],
 "metadata": {
  "kernelspec": {
   "display_name": "bcfl-fabric",
   "language": "python",
   "name": "python3"
  },
  "language_info": {
   "codemirror_mode": {
    "name": "ipython",
    "version": 3
   },
   "file_extension": ".py",
   "mimetype": "text/x-python",
   "name": "python",
   "nbconvert_exporter": "python",
   "pygments_lexer": "ipython3",
   "version": "3.11.7"
  }
 },
 "nbformat": 4,
 "nbformat_minor": 2
}
