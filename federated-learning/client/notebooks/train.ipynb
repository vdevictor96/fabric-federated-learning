{
 "cells": [
  {
   "cell_type": "code",
   "execution_count": 1,
   "metadata": {},
   "outputs": [
    {
     "name": "stdout",
     "output_type": "stream",
     "text": [
      "['/home/victor/_bcfl/fabric-federated-learning/federated-learning/client/notebooks', '/home/victor/anaconda3/envs/bcfl-fabric/lib/python311.zip', '/home/victor/anaconda3/envs/bcfl-fabric/lib/python3.11', '/home/victor/anaconda3/envs/bcfl-fabric/lib/python3.11/lib-dynload', '', '/home/victor/anaconda3/envs/bcfl-fabric/lib/python3.11/site-packages', '/home/victor/_bcfl/fabric-federated-learning/federated-learning']\n"
     ]
    }
   ],
   "source": [
    "\n",
    "import os\n",
    "os.chdir('/home/victor/_bcfl/fabric-federated-learning/federated-learning')  # Replace with the path to your project\n",
    "import sys\n",
    "sys.path.append('/home/victor/_bcfl/fabric-federated-learning/federated-learning')  # Replace with the path to your models directory\n",
    "print(sys.path)\n",
    "\n",
    "%load_ext autoreload\n",
    "%autoreload 2\n"
   ]
  },
  {
   "cell_type": "code",
   "execution_count": 2,
   "metadata": {},
   "outputs": [
    {
     "data": {
      "text/plain": [
       "device(type='cuda')"
      ]
     },
     "execution_count": 2,
     "metadata": {},
     "output_type": "execute_result"
    }
   ],
   "source": [
    "import torch\n",
    "device = torch.device(\"cuda\" if torch.cuda.is_available() else \"cpu\")\n",
    "device"
   ]
  },
  {
   "cell_type": "code",
   "execution_count": null,
   "metadata": {},
   "outputs": [],
   "source": [
    "# Running in colaboratory\n",
    "!git clone https://github.com/vdevictor96/fabric-federated-learning\n",
    "%cd fabric-federated-learning/federated-learning/\n",
    "!git pull\n"
   ]
  },
  {
   "cell_type": "code",
   "execution_count": null,
   "metadata": {},
   "outputs": [],
   "source": [
    "!python -m client.run_train --config_file ./client/config/bert_tiny_config.json"
   ]
  },
  {
   "cell_type": "code",
   "execution_count": 28,
   "metadata": {},
   "outputs": [
    {
     "name": "stderr",
     "output_type": "stream",
     "text": [
      "Some weights of BertForSequenceClassification were not initialized from the model checkpoint at prajjwal1/bert-tiny and are newly initialized: ['classifier.bias', 'classifier.weight']\n",
      "You should probably TRAIN this model on a down-stream task to be able to use it for predictions and inference.\n"
     ]
    },
    {
     "name": "stdout",
     "output_type": "stream",
     "text": [
      "\n",
      "-------- Loading configuration --------\n",
      "Current configuration:\n",
      "{\n",
      "    \"concurrency_flag\": false,\n",
      "    \"data_distribution\": \"iid\",\n",
      "    \"dataset\": \"deptweet\",\n",
      "    \"device\": \"cuda\",\n",
      "    \"dp_epsilon\": 0.0,\n",
      "    \"eval_batch_size\": 2,\n",
      "    \"eval_flag\": false,\n",
      "    \"eval_size\": 0.8,\n",
      "    \"learning_rate\": 6e-05,\n",
      "    \"max_length\": 512,\n",
      "    \"ml_mode\": \"fl\",\n",
      "    \"model\": \"bert_tiny\",\n",
      "    \"model_name\": \"bert_tiny\",\n",
      "    \"models_path\": \"client/models/bert_tiny\",\n",
      "    \"num_clients\": 2,\n",
      "    \"num_epochs\": 2,\n",
      "    \"num_rounds\": 2,\n",
      "    \"optimizer\": \"AdamW\",\n",
      "    \"progress_bar_flag\": true,\n",
      "    \"scheduler\": \"linear\",\n",
      "    \"scheduler_warmup_steps\": 0,\n",
      "    \"seed\": 200,\n",
      "    \"train_batch_size\": 4,\n",
      "    \"train_size\": 0.2\n",
      "}\n",
      "-------- Configuration loaded --------\n",
      "\n",
      "-------- Setting device --------\n",
      "CUDA device selected and available.\n",
      "-------- Device set --------\n",
      "\n",
      "-------- Setting seed --------\n",
      "-------- Seed set --------\n",
      "\n",
      "-------- Creating Model --------\n",
      "-------- Model created --------\n",
      "\n",
      "-------- Creating Tokenizer --------\n",
      "-------- Tokenizer created --------\n",
      "\n",
      "-------- Creating Train and Eval Dataloaders --------\n",
      "Train Loader: 6431 total sentences. 1608 batches of size 4.\n",
      "Eval Loader: 25722 total sentences. 12861 batches of size 2.\n",
      "-------- Train and Eval Dataloaders created --------\n",
      "\n",
      "-------- Training --------\n"
     ]
    },
    {
     "data": {
      "application/vnd.jupyter.widget-view+json": {
       "model_id": "fdd6b1d1ca1343769538ea50e3ad68a5",
       "version_major": 2,
       "version_minor": 0
      },
      "text/plain": [
       "  0%|          | 0/6432 [00:00<?, ?it/s]"
      ]
     },
     "metadata": {},
     "output_type": "display_data"
    },
    {
     "name": "stdout",
     "output_type": "stream",
     "text": [
      "Round 1 of 2\n",
      "-------------------------------\n",
      "Client 1 of 2: Local Epoch [1/2] Loss: 0.4339, Accuracy: 81.37 %\n",
      "Client 1 of 2: Local Epoch [2/2] Loss: 0.3340, Accuracy: 85.85 %\n",
      "Client 2 of 2: Local Epoch [1/2] Loss: 0.4411, Accuracy: 81.37 %\n",
      "Client 2 of 2: Local Epoch [2/2] Loss: 0.3510, Accuracy: 85.14 %\n",
      "-------------------------------\n",
      "Round [1/2] Average Local Loss: 0.3425, Average Local Accuracy: 85.49 %\n",
      "-------------------------------\n",
      "Round 2 of 2\n",
      "-------------------------------\n",
      "Client 1 of 2: Local Epoch [1/2] Loss: 0.3420, Accuracy: 85.44 %\n",
      "Client 1 of 2: Local Epoch [2/2] Loss: 0.2916, Accuracy: 87.90 %\n",
      "Client 2 of 2: Local Epoch [1/2] Loss: 0.3613, Accuracy: 84.20 %\n",
      "Client 2 of 2: Local Epoch [2/2] Loss: 0.3052, Accuracy: 87.19 %\n",
      "-------------------------------\n",
      "Round [2/2] Average Local Loss: 0.2984, Average Local Accuracy: 87.54 %\n",
      "-------------------------------\n",
      "Last model in round 2 saved with Training Accuracy: 87.54 %\n",
      "-------- Training finished --------\n"
     ]
    }
   ],
   "source": [
    "from client.run_train import main\n",
    "import sys\n",
    "import torch\n",
    "# torch.autograd.set_detect_anomaly(True)\n",
    "\n",
    "# Backup the original sys.argv\n",
    "original_argv = sys.argv\n",
    "\n",
    "try:\n",
    "    # Replace sys.argv with the arguments you want to pass\n",
    "    sys.argv = ['run_train', '--config_file', 'client/config/train/fl_config.json']\n",
    "    # sys.argv = ['run_train']\n",
    "\n",
    "    \n",
    "    # Now call main, and it will use the arguments you set\n",
    "    main()\n",
    "finally:\n",
    "    # Restore the original sys.argv\n",
    "    sys.argv = original_argv\n",
    "    "
   ]
  }
 ],
 "metadata": {
  "kernelspec": {
   "display_name": "bcfl-fabric",
   "language": "python",
   "name": "python3"
  },
  "language_info": {
   "codemirror_mode": {
    "name": "ipython",
    "version": 3
   },
   "file_extension": ".py",
   "mimetype": "text/x-python",
   "name": "python",
   "nbconvert_exporter": "python",
   "pygments_lexer": "ipython3",
   "version": "3.11.7"
  }
 },
 "nbformat": 4,
 "nbformat_minor": 2
}
