{
 "cells": [
  {
   "cell_type": "code",
   "execution_count": 2,
   "metadata": {},
   "outputs": [
    {
     "name": "stdout",
     "output_type": "stream",
     "text": [
      "['/home/victor/_bcfl/fabric-federated-learning/federated-learning/client/notebooks', '/home/victor/anaconda3/envs/bcfl-fabric/lib/python311.zip', '/home/victor/anaconda3/envs/bcfl-fabric/lib/python3.11', '/home/victor/anaconda3/envs/bcfl-fabric/lib/python3.11/lib-dynload', '', '/home/victor/anaconda3/envs/bcfl-fabric/lib/python3.11/site-packages', '/home/victor/_bcfl/fabric-federated-learning/federated-learning']\n"
     ]
    }
   ],
   "source": [
    "\n",
    "import os\n",
    "os.chdir('/home/victor/_bcfl/fabric-federated-learning/federated-learning')  # Replace with the path to your project\n",
    "import sys\n",
    "sys.path.append('/home/victor/_bcfl/fabric-federated-learning/federated-learning')  # Replace with the path to your models directory\n",
    "print(sys.path)\n",
    "\n",
    "%load_ext autoreload\n",
    "%autoreload 2\n"
   ]
  },
  {
   "cell_type": "code",
   "execution_count": null,
   "metadata": {},
   "outputs": [],
   "source": [
    "# Running in colaboratory\n",
    "!git clone https://github.com/vdevictor96/fabric-federated-learning\n",
    "%cd fabric-federated-learning/federated-learning/\n",
    "!git pull\n"
   ]
  },
  {
   "cell_type": "code",
   "execution_count": null,
   "metadata": {},
   "outputs": [],
   "source": [
    "!python -m client.run_train --config_file ./client/config/bert_tiny_config.json"
   ]
  },
  {
   "cell_type": "code",
   "execution_count": 36,
   "metadata": {},
   "outputs": [
    {
     "name": "stderr",
     "output_type": "stream",
     "text": [
      "Some weights of BertForSequenceClassification were not initialized from the model checkpoint at prajjwal1/bert-tiny and are newly initialized: ['classifier.bias', 'classifier.weight']\n",
      "You should probably TRAIN this model on a down-stream task to be able to use it for predictions and inference.\n"
     ]
    },
    {
     "name": "stdout",
     "output_type": "stream",
     "text": [
      "\n",
      "-------- Loading configuration --------\n",
      "Current configuration:\n",
      "{\n",
      "    \"data_distribution\": \"non-iid\",\n",
      "    \"dataset\": \"reddit_dep\",\n",
      "    \"device\": \"cuda\",\n",
      "    \"dp_epsilon\": 0.0,\n",
      "    \"eval_batch_size\": 2,\n",
      "    \"eval_flag\": false,\n",
      "    \"eval_size\": 0.98,\n",
      "    \"learning_rate\": 0.01,\n",
      "    \"max_length\": 512,\n",
      "    \"ml_mode\": \"fl\",\n",
      "    \"model\": \"bert_tiny\",\n",
      "    \"model_name\": \"bert_tiny\",\n",
      "    \"models_path\": \"client/models/bert_tiny\",\n",
      "    \"num_clients\": 2,\n",
      "    \"num_epochs\": 2,\n",
      "    \"num_rounds\": 2,\n",
      "    \"optimizer\": \"AdamW\",\n",
      "    \"progress_bar_flag\": true,\n",
      "    \"scheduler\": \"linear\",\n",
      "    \"scheduler_warmup_steps\": 0,\n",
      "    \"seed\": 200,\n",
      "    \"train_batch_size\": 4,\n",
      "    \"train_size\": 0.02\n",
      "}\n",
      "-------- Configuration loaded --------\n",
      "\n",
      "-------- Setting device --------\n",
      "CUDA device selected but not available. Using CPU instead.\n",
      "-------- Device set --------\n",
      "\n",
      "-------- Setting seed --------\n",
      "-------- Seed set --------\n",
      "\n",
      "-------- Creating Model --------\n",
      "-------- Model created --------\n",
      "\n",
      "-------- Creating Tokenizer --------\n",
      "-------- Tokenizer created --------\n",
      "\n",
      "-------- Creating Train and Eval Dataloaders --------\n",
      "Train Loader: 50 total sentences. 13 batches of size 4.\n",
      "Eval Loader: 2428 total sentences. 1214 batches of size 2.\n",
      "-------- Train and Eval Dataloaders created --------\n",
      "\n",
      "-------- Training --------\n"
     ]
    },
    {
     "data": {
      "application/vnd.jupyter.widget-view+json": {
       "model_id": "2aab43f4e3b0426e84e79ffa2927116c",
       "version_major": 2,
       "version_minor": 0
      },
      "text/plain": [
       "  0%|          | 0/52 [00:00<?, ?it/s]"
      ]
     },
     "metadata": {},
     "output_type": "display_data"
    },
    {
     "name": "stdout",
     "output_type": "stream",
     "text": [
      "-------------------------------\n",
      "Round 1 of 2\n",
      "-------------------------------\n",
      "Client 1 of 2\n",
      "Local Epoch [1/2] finished, Loss: 1.1816, Accuracy: 62.50 %\n",
      "Total label 0: 16, Total label 1: 8\n",
      "Local Epoch [2/2] finished, Loss: 0.7516, Accuracy: 45.83 %\n",
      "Total label 0: 16, Total label 1: 8\n",
      "-------------------------------\n",
      "Client 2 of 2\n",
      "Local Epoch [1/2] finished, Loss: 0.8349, Accuracy: 65.38 %\n",
      "Total label 0: 17, Total label 1: 9\n",
      "Local Epoch [2/2] finished, Loss: 0.8000, Accuracy: 42.31 %\n",
      "Total label 0: 17, Total label 1: 9\n",
      "-------------------------------\n",
      "Round [1/2] finished, Average Local Loss: 0.7758, Average Local Accuracy: 44.07 %\n",
      "-------------------------------\n",
      "-------------------------------\n",
      "Round 2 of 2\n",
      "-------------------------------\n",
      "Client 1 of 2\n",
      "Local Epoch [1/2] finished, Loss: 0.7273, Accuracy: 66.67 %\n",
      "Total label 0: 16, Total label 1: 8\n",
      "Local Epoch [2/2] finished, Loss: 0.6690, Accuracy: 66.67 %\n",
      "Total label 0: 16, Total label 1: 8\n",
      "-------------------------------\n",
      "Client 2 of 2\n",
      "Local Epoch [1/2] finished, Loss: 0.7727, Accuracy: 57.69 %\n",
      "Total label 0: 17, Total label 1: 9\n",
      "Local Epoch [2/2] finished, Loss: 0.6980, Accuracy: 65.38 %\n",
      "Total label 0: 17, Total label 1: 9\n",
      "-------------------------------\n",
      "Round [2/2] finished, Average Local Loss: 0.6835, Average Local Accuracy: 66.03 %\n",
      "-------------------------------\n",
      "Last model in round 2 saved with Training Accuracy: 66.03 %\n",
      "-------- Training finished --------\n"
     ]
    }
   ],
   "source": [
    "from client.run_train import main\n",
    "import sys\n",
    "\n",
    "\n",
    "# Backup the original sys.argv\n",
    "original_argv = sys.argv\n",
    "\n",
    "try:\n",
    "    # Replace sys.argv with the arguments you want to pass\n",
    "    sys.argv = ['run_train', '--config_file', 'client/config/train/fl_config.json']\n",
    "    # sys.argv = ['run_train']\n",
    "\n",
    "    \n",
    "    # Now call main, and it will use the arguments you set\n",
    "    main()\n",
    "finally:\n",
    "    # Restore the original sys.argv\n",
    "    sys.argv = original_argv\n",
    "    "
   ]
  }
 ],
 "metadata": {
  "kernelspec": {
   "display_name": "bcfl-fabric",
   "language": "python",
   "name": "python3"
  },
  "language_info": {
   "codemirror_mode": {
    "name": "ipython",
    "version": 3
   },
   "file_extension": ".py",
   "mimetype": "text/x-python",
   "name": "python",
   "nbconvert_exporter": "python",
   "pygments_lexer": "ipython3",
   "version": "3.11.7"
  }
 },
 "nbformat": 4,
 "nbformat_minor": 2
}
