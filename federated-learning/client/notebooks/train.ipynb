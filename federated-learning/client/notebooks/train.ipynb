{
 "cells": [
  {
   "cell_type": "code",
   "execution_count": 1,
   "metadata": {},
   "outputs": [
    {
     "ename": "FileNotFoundError",
     "evalue": "[Errno 2] No such file or directory: '/home/victor/_bcfl/fabric-federated-learning/federated-learning'",
     "output_type": "error",
     "traceback": [
      "\u001b[0;31m---------------------------------------------------------------------------\u001b[0m",
      "\u001b[0;31mFileNotFoundError\u001b[0m                         Traceback (most recent call last)",
      "Cell \u001b[0;32mIn[1], line 2\u001b[0m\n\u001b[1;32m      1\u001b[0m \u001b[38;5;28;01mimport\u001b[39;00m \u001b[38;5;21;01mos\u001b[39;00m\n\u001b[0;32m----> 2\u001b[0m \u001b[43mos\u001b[49m\u001b[38;5;241;43m.\u001b[39;49m\u001b[43mchdir\u001b[49m\u001b[43m(\u001b[49m\u001b[38;5;124;43m'\u001b[39;49m\u001b[38;5;124;43m/home/victor/_bcfl/fabric-federated-learning/federated-learning\u001b[39;49m\u001b[38;5;124;43m'\u001b[39;49m\u001b[43m)\u001b[49m  \u001b[38;5;66;03m# Replace with the path to your project\u001b[39;00m\n\u001b[1;32m      3\u001b[0m \u001b[38;5;28;01mimport\u001b[39;00m \u001b[38;5;21;01msys\u001b[39;00m\n\u001b[1;32m      4\u001b[0m sys\u001b[38;5;241m.\u001b[39mpath\u001b[38;5;241m.\u001b[39mappend(\u001b[38;5;124m'\u001b[39m\u001b[38;5;124m/home/victor/_bcfl/fabric-federated-learning/federated-learning\u001b[39m\u001b[38;5;124m'\u001b[39m)  \u001b[38;5;66;03m# Replace with the path to your models directory\u001b[39;00m\n",
      "\u001b[0;31mFileNotFoundError\u001b[0m: [Errno 2] No such file or directory: '/home/victor/_bcfl/fabric-federated-learning/federated-learning'"
     ]
    }
   ],
   "source": [
    "\n",
    "import os\n",
    "os.chdir('/home/victor/_bcfl/fabric-federated-learning/federated-learning')  # Replace with the path to your project\n",
    "import sys\n",
    "sys.path.append('/home/victor/_bcfl/fabric-federated-learning/federated-learning')  # Replace with the path to your models directory\n",
    "print(sys.path)\n",
    "\n",
    "%load_ext autoreload\n",
    "%autoreload 2\n"
   ]
  },
  {
   "cell_type": "code",
   "execution_count": 2,
   "metadata": {},
   "outputs": [
    {
     "name": "stdout",
     "output_type": "stream",
     "text": [
      "['/local/vpaloma/fabric-federated-learning/federated-learning/client/notebooks', '/NS/fabric-federated-learning/work/anaconda3/envs/bcfl-fabric/lib/python311.zip', '/NS/fabric-federated-learning/work/anaconda3/envs/bcfl-fabric/lib/python3.11', '/NS/fabric-federated-learning/work/anaconda3/envs/bcfl-fabric/lib/python3.11/lib-dynload', '', '/NS/fabric-federated-learning/work/anaconda3/envs/bcfl-fabric/lib/python3.11/site-packages', '/local/vpaloma/fabric-federated-learning/federated-learning']\n"
     ]
    }
   ],
   "source": [
    "\n",
    "# Running in MPI cluster\n",
    "import os\n",
    "os.chdir('/local/vpaloma/fabric-federated-learning/federated-learning')  # Replace with the path to your project\n",
    "import sys\n",
    "sys.path.append('/local/vpaloma/fabric-federated-learning/federated-learning')  # Replace with the path to your models directory\n",
    "print(sys.path)\n",
    "\n",
    "%load_ext autoreload\n",
    "%autoreload 2\n"
   ]
  },
  {
   "cell_type": "code",
   "execution_count": 3,
   "metadata": {},
   "outputs": [
    {
     "data": {
      "text/plain": [
       "device(type='cuda')"
      ]
     },
     "execution_count": 3,
     "metadata": {},
     "output_type": "execute_result"
    }
   ],
   "source": [
    "import torch\n",
    "device = torch.device(\"cuda\" if torch.cuda.is_available() else \"cpu\")\n",
    "device"
   ]
  },
  {
   "cell_type": "code",
   "execution_count": null,
   "metadata": {},
   "outputs": [],
   "source": [
    "# Running in colaboratory\n",
    "!git clone https://github.com/vdevictor96/fabric-federated-learning\n",
    "%cd fabric-federated-learning/federated-learning/\n",
    "!git pull\n"
   ]
  },
  {
   "cell_type": "code",
   "execution_count": null,
   "metadata": {},
   "outputs": [],
   "source": [
    "!python -m client.run_train --config_file ./client/config/train/bert_tiny_debug_config.json"
   ]
  },
  {
   "cell_type": "code",
   "execution_count": 4,
   "metadata": {},
   "outputs": [
    {
     "name": "stdout",
     "output_type": "stream",
     "text": [
      "\n",
      "-------- Loading configuration --------\n",
      "Current configuration:\n",
      "{\n",
      "    \"concurrency_flag\": false,\n",
      "    \"data_distribution\": \"iid\",\n",
      "    \"dataset\": \"twitter_dep\",\n",
      "    \"device\": \"cuda\",\n",
      "    \"dp_delta\": 0.01,\n",
      "    \"dp_epsilon\": 0.5,\n",
      "    \"eval_batch_size\": 4,\n",
      "    \"eval_flag\": true,\n",
      "    \"eval_size\": 0.2,\n",
      "    \"fed_alg\": \"fedavg\",\n",
      "    \"layers\": 3,\n",
      "    \"learning_rate\": 0.0006,\n",
      "    \"max_length\": 512,\n",
      "    \"ml_mode\": \"ml\",\n",
      "    \"model\": \"bert_small\",\n",
      "    \"model_name\": \"ml_0.5_twitter_dep_seed2\",\n",
      "    \"models_path\": \"/local/vpaloma/fabric-federated-learning/ablation_study/phase-2/1-ml_mode-dataset-dp/twitter_dep\",\n",
      "    \"mu\": 0.5,\n",
      "    \"num_clients\": 5,\n",
      "    \"num_epochs\": 12,\n",
      "    \"num_rounds\": 4,\n",
      "    \"optimizer\": \"AdamW\",\n",
      "    \"progress_bar_flag\": false,\n",
      "    \"save_model\": true,\n",
      "    \"scheduler\": \"linear\",\n",
      "    \"scheduler_warmup_steps\": 0,\n",
      "    \"seed\": 221,\n",
      "    \"test_flag\": true,\n",
      "    \"train_batch_size\": 4,\n",
      "    \"train_size\": 0.8\n",
      "}\n",
      "-------- Configuration loaded --------\n",
      "\n",
      "-------- Setting device --------\n",
      "cuda device selected and available.\n",
      "-------- Device set --------\n",
      "\n",
      "-------- Setting seed --------\n",
      "-------- Seed set --------\n",
      "\n",
      "-------- Creating Model --------\n"
     ]
    },
    {
     "name": "stderr",
     "output_type": "stream",
     "text": [
      "Some weights of BertForSequenceClassification were not initialized from the model checkpoint at prajjwal1/bert-small and are newly initialized: ['classifier.weight', 'classifier.bias']\n",
      "You should probably TRAIN this model on a down-stream task to be able to use it for predictions and inference.\n"
     ]
    },
    {
     "name": "stdout",
     "output_type": "stream",
     "text": [
      "-------- Model created --------\n",
      "\n",
      "-------- Setting Trainable Layers --------\n",
      "Training the last 3 layers.\n",
      "\n",
      "Total parameters count: 28764674\n",
      "Trainable parameters count: 3416066\n",
      "-------- Trainable Layers set --------\n",
      "\n",
      "-------- Creating Tokenizer --------\n",
      "-------- Tokenizer created --------\n",
      "\n",
      "-------- Creating Train and Eval Dataloaders --------\n",
      "Train Loader: 1982 total sentences. 496 batches of size 4.\n",
      "Eval Loader: 496 total sentences. 124 batches of size 4.\n",
      "-------- Train and Eval Dataloaders created --------\n",
      "\n",
      "-------- Creating Optimizer --------\n",
      "-------- Optimizer created --------\n",
      "\n",
      "-------- Creating Scheduler --------\n",
      "-------- Scheduler created --------\n",
      "\n",
      "-------- Training --------\n",
      "Training with Centralised Machine Learning technology.\n",
      "Training with differential privacy.\n",
      "Epoch [1/12], Step [100/496], Loss: 0.6396, Accuracy: 64.75 %, Epsilon: 0.02, Delta: 0.0100\n",
      "Epoch [1/12], Step [200/496], Loss: 0.7303, Accuracy: 68.38 %, Epsilon: 0.04, Delta: 0.0100\n",
      "Epoch [1/12], Step [300/496], Loss: 0.8711, Accuracy: 70.83 %, Epsilon: 0.06, Delta: 0.0100\n",
      "Epoch [1/12], Step [400/496], Loss: 1.1352, Accuracy: 70.25 %, Epsilon: 0.08, Delta: 0.0100\n",
      "-------------------------------\n",
      "Epoch [1/12] Loss: 1.2553, Accuracy: 70.69 %, Epsilon: 0.09, Delta: 0.0100\n",
      "-------------------------------\n",
      "-------- Validation --------\n",
      "Validation Loss: 1.6239, Validation Accuracy: 76.01 %\n",
      "-------- Validation finished --------\n",
      "Updated best model in epoch 1 saved with Validation Accuracy: 76.01 %\n",
      "-------------------------------\n",
      "Epoch [2/12], Step [100/496], Loss: 1.9283, Accuracy: 71.25 %, Epsilon: 0.10, Delta: 0.0100\n",
      "Epoch [2/12], Step [200/496], Loss: 1.8704, Accuracy: 71.88 %, Epsilon: 0.11, Delta: 0.0100\n",
      "Epoch [2/12], Step [300/496], Loss: 1.9084, Accuracy: 71.25 %, Epsilon: 0.13, Delta: 0.0100\n",
      "Epoch [2/12], Step [400/496], Loss: 1.8584, Accuracy: 71.81 %, Epsilon: 0.14, Delta: 0.0100\n",
      "-------------------------------\n",
      "Epoch [2/12] Loss: 1.8491, Accuracy: 72.00 %, Epsilon: 0.15, Delta: 0.0100\n",
      "-------------------------------\n",
      "-------- Validation --------\n",
      "Validation Loss: 1.6154, Validation Accuracy: 76.01 %\n",
      "-------- Validation finished --------\n",
      "Updated best model in epoch 2 saved with Validation Accuracy: 76.01 %\n",
      "-------------------------------\n",
      "Epoch [3/12], Step [100/496], Loss: 1.9327, Accuracy: 70.50 %, Epsilon: 0.16, Delta: 0.0100\n",
      "Epoch [3/12], Step [200/496], Loss: 1.8531, Accuracy: 72.00 %, Epsilon: 0.17, Delta: 0.0100\n",
      "Epoch [3/12], Step [300/496], Loss: 1.8284, Accuracy: 72.42 %, Epsilon: 0.18, Delta: 0.0100\n",
      "Epoch [3/12], Step [400/496], Loss: 1.8663, Accuracy: 71.81 %, Epsilon: 0.19, Delta: 0.0100\n",
      "-------------------------------\n",
      "Epoch [3/12] Loss: 1.8440, Accuracy: 72.00 %, Epsilon: 0.20, Delta: 0.0100\n",
      "-------------------------------\n",
      "-------- Validation --------\n",
      "Validation Loss: 1.6308, Validation Accuracy: 76.01 %\n",
      "-------- Validation finished --------\n",
      "Updated best model in epoch 3 saved with Validation Accuracy: 76.01 %\n",
      "-------------------------------\n",
      "Epoch [4/12], Step [100/496], Loss: 1.6634, Accuracy: 75.50 %, Epsilon: 0.20, Delta: 0.0100\n",
      "Epoch [4/12], Step [200/496], Loss: 1.8565, Accuracy: 72.50 %, Epsilon: 0.21, Delta: 0.0100\n",
      "Epoch [4/12], Step [300/496], Loss: 1.7805, Accuracy: 73.33 %, Epsilon: 0.22, Delta: 0.0100\n",
      "Epoch [4/12], Step [400/496], Loss: 1.8128, Accuracy: 72.69 %, Epsilon: 0.23, Delta: 0.0100\n",
      "-------------------------------\n",
      "Epoch [4/12] Loss: 1.8466, Accuracy: 72.00 %, Epsilon: 0.24, Delta: 0.0100\n",
      "-------------------------------\n",
      "-------- Validation --------\n",
      "Validation Loss: 1.5095, Validation Accuracy: 76.01 %\n",
      "-------- Validation finished --------\n",
      "Updated best model in epoch 4 saved with Validation Accuracy: 76.01 %\n",
      "-------------------------------\n",
      "Epoch [5/12], Step [100/496], Loss: 1.6762, Accuracy: 73.75 %, Epsilon: 0.25, Delta: 0.0100\n",
      "Epoch [5/12], Step [200/496], Loss: 1.6686, Accuracy: 74.25 %, Epsilon: 0.25, Delta: 0.0100\n",
      "Epoch [5/12], Step [300/496], Loss: 1.7376, Accuracy: 73.33 %, Epsilon: 0.26, Delta: 0.0100\n",
      "Epoch [5/12], Step [400/496], Loss: 1.7907, Accuracy: 72.44 %, Epsilon: 0.27, Delta: 0.0100\n",
      "-------------------------------\n",
      "Epoch [5/12] Loss: 1.8141, Accuracy: 72.00 %, Epsilon: 0.28, Delta: 0.0100\n",
      "-------------------------------\n",
      "-------- Validation --------\n",
      "Validation Loss: 1.5325, Validation Accuracy: 76.01 %\n",
      "-------- Validation finished --------\n",
      "Updated best model in epoch 5 saved with Validation Accuracy: 76.01 %\n",
      "-------------------------------\n",
      "Epoch [6/12], Step [100/496], Loss: 1.8907, Accuracy: 70.25 %, Epsilon: 0.28, Delta: 0.0100\n",
      "Epoch [6/12], Step [200/496], Loss: 1.9690, Accuracy: 69.25 %, Epsilon: 0.29, Delta: 0.0100\n",
      "Epoch [6/12], Step [300/496], Loss: 1.8531, Accuracy: 71.33 %, Epsilon: 0.30, Delta: 0.0100\n",
      "Epoch [6/12], Step [400/496], Loss: 1.8137, Accuracy: 72.12 %, Epsilon: 0.31, Delta: 0.0100\n",
      "-------------------------------\n",
      "Epoch [6/12] Loss: 1.8242, Accuracy: 72.00 %, Epsilon: 0.31, Delta: 0.0100\n",
      "-------------------------------\n",
      "-------- Validation --------\n",
      "Validation Loss: 1.5550, Validation Accuracy: 76.01 %\n",
      "-------- Validation finished --------\n",
      "Updated best model in epoch 6 saved with Validation Accuracy: 76.01 %\n",
      "-------------------------------\n",
      "Epoch [7/12], Step [100/496], Loss: 1.5314, Accuracy: 76.00 %, Epsilon: 0.32, Delta: 0.0100\n",
      "Epoch [7/12], Step [200/496], Loss: 1.6773, Accuracy: 73.88 %, Epsilon: 0.33, Delta: 0.0100\n",
      "Epoch [7/12], Step [300/496], Loss: 1.7703, Accuracy: 72.50 %, Epsilon: 0.33, Delta: 0.0100\n",
      "Epoch [7/12], Step [400/496], Loss: 1.7860, Accuracy: 72.25 %, Epsilon: 0.34, Delta: 0.0100\n",
      "-------------------------------\n",
      "Epoch [7/12] Loss: 1.7949, Accuracy: 72.00 %, Epsilon: 0.35, Delta: 0.0100\n",
      "-------------------------------\n",
      "-------- Validation --------\n",
      "Validation Loss: 1.5077, Validation Accuracy: 76.01 %\n",
      "-------- Validation finished --------\n",
      "Updated best model in epoch 7 saved with Validation Accuracy: 76.01 %\n",
      "-------------------------------\n",
      "Epoch [8/12], Step [100/496], Loss: 1.8823, Accuracy: 70.25 %, Epsilon: 0.35, Delta: 0.0100\n",
      "Epoch [8/12], Step [200/496], Loss: 1.9184, Accuracy: 69.50 %, Epsilon: 0.36, Delta: 0.0100\n",
      "Epoch [8/12], Step [300/496], Loss: 1.8738, Accuracy: 70.25 %, Epsilon: 0.37, Delta: 0.0100\n",
      "Epoch [8/12], Step [400/496], Loss: 1.8070, Accuracy: 71.38 %, Epsilon: 0.37, Delta: 0.0100\n",
      "-------------------------------\n",
      "Epoch [8/12] Loss: 1.7711, Accuracy: 72.00 %, Epsilon: 0.38, Delta: 0.0100\n",
      "-------------------------------\n",
      "-------- Validation --------\n",
      "Validation Loss: 1.5110, Validation Accuracy: 76.01 %\n",
      "-------- Validation finished --------\n",
      "Updated best model in epoch 8 saved with Validation Accuracy: 76.01 %\n",
      "-------------------------------\n",
      "Epoch [9/12], Step [100/496], Loss: 1.7760, Accuracy: 72.00 %, Epsilon: 0.38, Delta: 0.0100\n",
      "Epoch [9/12], Step [200/496], Loss: 1.7248, Accuracy: 73.00 %, Epsilon: 0.39, Delta: 0.0100\n",
      "Epoch [9/12], Step [300/496], Loss: 1.7080, Accuracy: 73.25 %, Epsilon: 0.40, Delta: 0.0100\n",
      "Epoch [9/12], Step [400/496], Loss: 1.7562, Accuracy: 72.56 %, Epsilon: 0.40, Delta: 0.0100\n",
      "-------------------------------\n",
      "Epoch [9/12] Loss: 1.7965, Accuracy: 72.00 %, Epsilon: 0.41, Delta: 0.0100\n",
      "-------------------------------\n",
      "-------- Validation --------\n",
      "Validation Loss: 1.5040, Validation Accuracy: 76.01 %\n",
      "-------- Validation finished --------\n",
      "Updated best model in epoch 9 saved with Validation Accuracy: 76.01 %\n",
      "-------------------------------\n",
      "Epoch [10/12], Step [100/496], Loss: 1.5865, Accuracy: 74.50 %, Epsilon: 0.41, Delta: 0.0100\n",
      "Epoch [10/12], Step [200/496], Loss: 1.7527, Accuracy: 72.38 %, Epsilon: 0.42, Delta: 0.0100\n",
      "Epoch [10/12], Step [300/496], Loss: 1.7111, Accuracy: 73.25 %, Epsilon: 0.43, Delta: 0.0100\n",
      "Epoch [10/12], Step [400/496], Loss: 1.7064, Accuracy: 73.38 %, Epsilon: 0.43, Delta: 0.0100\n",
      "-------------------------------\n",
      "Epoch [10/12] Loss: 1.7986, Accuracy: 72.00 %, Epsilon: 0.44, Delta: 0.0100\n",
      "-------------------------------\n",
      "-------- Validation --------\n",
      "Validation Loss: 1.4881, Validation Accuracy: 76.01 %\n",
      "-------- Validation finished --------\n",
      "Updated best model in epoch 10 saved with Validation Accuracy: 76.01 %\n",
      "-------------------------------\n",
      "Epoch [11/12], Step [100/496], Loss: 1.5934, Accuracy: 75.50 %, Epsilon: 0.44, Delta: 0.0100\n",
      "Epoch [11/12], Step [200/496], Loss: 1.7938, Accuracy: 72.00 %, Epsilon: 0.45, Delta: 0.0100\n",
      "Epoch [11/12], Step [300/496], Loss: 1.7557, Accuracy: 72.50 %, Epsilon: 0.46, Delta: 0.0100\n",
      "Epoch [11/12], Step [400/496], Loss: 1.7804, Accuracy: 71.94 %, Epsilon: 0.46, Delta: 0.0100\n",
      "-------------------------------\n",
      "Epoch [11/12] Loss: 1.7755, Accuracy: 72.00 %, Epsilon: 0.47, Delta: 0.0100\n",
      "-------------------------------\n",
      "-------- Validation --------\n",
      "Validation Loss: 1.4803, Validation Accuracy: 76.01 %\n",
      "-------- Validation finished --------\n",
      "Updated best model in epoch 11 saved with Validation Accuracy: 76.01 %\n",
      "-------------------------------\n",
      "Epoch [12/12], Step [100/496], Loss: 1.7655, Accuracy: 71.75 %, Epsilon: 0.47, Delta: 0.0100\n",
      "Epoch [12/12], Step [200/496], Loss: 1.7448, Accuracy: 72.00 %, Epsilon: 0.48, Delta: 0.0100\n",
      "Epoch [12/12], Step [300/496], Loss: 1.7681, Accuracy: 72.00 %, Epsilon: 0.48, Delta: 0.0100\n",
      "Epoch [12/12], Step [400/496], Loss: 1.7946, Accuracy: 71.62 %, Epsilon: 0.49, Delta: 0.0100\n",
      "-------------------------------\n",
      "Epoch [12/12] Loss: 1.7677, Accuracy: 72.00 %, Epsilon: 0.49, Delta: 0.0100\n",
      "-------------------------------\n",
      "-------- Validation --------\n",
      "Validation Loss: 1.4844, Validation Accuracy: 76.01 %\n",
      "-------- Validation finished --------\n",
      "Updated best model in epoch 12 saved with Validation Accuracy: 76.01 %\n",
      "-------------------------------\n",
      "Best model in epoch 12 saved with Validation Accuracy: 76.01 %\n",
      "\n",
      "-------- Training finished in 3:53 --------\n",
      "\n",
      "Test flag enabled. Testing the model\n",
      "\n",
      "-------- Loading best model from model_path --------\n"
     ]
    },
    {
     "name": "stderr",
     "output_type": "stream",
     "text": [
      "Some weights of BertForSequenceClassification were not initialized from the model checkpoint at prajjwal1/bert-small and are newly initialized: ['classifier.weight', 'classifier.bias']\n",
      "You should probably TRAIN this model on a down-stream task to be able to use it for predictions and inference.\n"
     ]
    },
    {
     "name": "stdout",
     "output_type": "stream",
     "text": [
      "Loaded model bert-small from date 13-03-2024 20:15. Trained with Centralised Machine Learning technology.\n",
      "Epoch 12, lr: 0.0006, optimizer: DPOptimizer\n",
      "Train accuracy: 72.00 %, Validation accuracy: 76.01 %\n",
      "-------- Best model loaded --------\n",
      "\n",
      "-------- Creating Test Dataloader --------\n",
      "Test Loader: 618 total sentences. 78 batches of size 8.\n",
      "-------- Test Dataloader created --------\n",
      "\n",
      "-------- Testing --------\n",
      "[0, 0, 0, 0, 0, 0, 0, 0, 0, 0, 0, 0, 0, 0, 0, 0, 0, 0, 0, 0, 0, 0, 0, 0, 0, 0, 0, 0, 0, 0, 0, 0, 0, 0, 0, 0, 0, 0, 0, 0]\n"
     ]
    },
    {
     "name": "stderr",
     "output_type": "stream",
     "text": [
      "/NS/fabric-federated-learning/work/anaconda3/envs/bcfl-fabric/lib/python3.11/site-packages/sklearn/metrics/_classification.py:1497: UndefinedMetricWarning: Precision is ill-defined and being set to 0.0 in labels with no predicted samples. Use `zero_division` parameter to control this behavior.\n",
      "  _warn_prf(average, modifier, f\"{metric.capitalize()} is\", len(result))\n"
     ]
    },
    {
     "name": "stdout",
     "output_type": "stream",
     "text": [
      "Nº of test samples: 618\n",
      "Accuracy: 72.82%\n",
      "Precision: 36.41%\n",
      "Recall: 50.00%\n",
      "F1 Score: 42.13%\n",
      "-------- Testing finished --------\n"
     ]
    }
   ],
   "source": [
    "from client.run_train import main\n",
    "import sys\n",
    "import torch\n",
    "# torch.autograd.set_detect_anomaly(True)\n",
    "\n",
    "# Backup the original sys.argv\n",
    "original_argv = sys.argv\n",
    "\n",
    "try:\n",
    "    # Replace sys.argv with the arguments you want to pass\n",
    "    sys.argv = ['run_train', '--config_file', './client/config/phase-2/1-ml_mode-dataset-dp/twitter_dep/ml_0.5_seed2_config.json']\n",
    "    # sys.argv = ['run_train']\n",
    "\n",
    "    \n",
    "    # Now call main, and it will use the arguments you set\n",
    "    main()\n",
    "finally:\n",
    "    # Restore the original sys.argv\n",
    "    sys.argv = original_argv\n",
    "    "
   ]
  }
 ],
 "metadata": {
  "kernelspec": {
   "display_name": "Python 3 (ipykernel)",
   "language": "python",
   "name": "python3"
  },
  "language_info": {
   "codemirror_mode": {
    "name": "ipython",
    "version": 3
   },
   "file_extension": ".py",
   "mimetype": "text/x-python",
   "name": "python",
   "nbconvert_exporter": "python",
   "pygments_lexer": "ipython3",
   "version": "3.11.5"
  }
 },
 "nbformat": 4,
 "nbformat_minor": 2
}
