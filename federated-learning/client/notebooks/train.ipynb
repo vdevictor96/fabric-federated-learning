{
 "cells": [
  {
   "cell_type": "code",
   "execution_count": 1,
   "metadata": {},
   "outputs": [
    {
     "name": "stdout",
     "output_type": "stream",
     "text": [
      "['/home/victor/_bcfl/fabric-federated-learning/federated-learning/client/notebooks', '/home/victor/anaconda3/envs/bcfl-fabric/lib/python311.zip', '/home/victor/anaconda3/envs/bcfl-fabric/lib/python3.11', '/home/victor/anaconda3/envs/bcfl-fabric/lib/python3.11/lib-dynload', '', '/home/victor/anaconda3/envs/bcfl-fabric/lib/python3.11/site-packages', '/home/victor/_bcfl/fabric-federated-learning/federated-learning']\n"
     ]
    }
   ],
   "source": [
    "\n",
    "import os\n",
    "os.chdir('/home/victor/_bcfl/fabric-federated-learning/federated-learning')  # Replace with the path to your project\n",
    "import sys\n",
    "sys.path.append('/home/victor/_bcfl/fabric-federated-learning/federated-learning')  # Replace with the path to your models directory\n",
    "print(sys.path)\n",
    "\n",
    "%load_ext autoreload\n",
    "%autoreload 2\n"
   ]
  },
  {
   "cell_type": "code",
   "execution_count": 2,
   "metadata": {},
   "outputs": [
    {
     "data": {
      "text/plain": [
       "device(type='cuda')"
      ]
     },
     "execution_count": 2,
     "metadata": {},
     "output_type": "execute_result"
    }
   ],
   "source": [
    "import torch\n",
    "device = torch.device(\"cuda\" if torch.cuda.is_available() else \"cpu\")\n",
    "device"
   ]
  },
  {
   "cell_type": "code",
   "execution_count": null,
   "metadata": {},
   "outputs": [],
   "source": [
    "# Running in colaboratory\n",
    "!git clone https://github.com/vdevictor96/fabric-federated-learning\n",
    "%cd fabric-federated-learning/federated-learning/\n",
    "!git pull\n"
   ]
  },
  {
   "cell_type": "code",
   "execution_count": null,
   "metadata": {},
   "outputs": [],
   "source": [
    "!python -m client.run_train --config_file ./client/config/train/fl_config.json"
   ]
  },
  {
   "cell_type": "code",
   "execution_count": 3,
   "metadata": {},
   "outputs": [
    {
     "name": "stderr",
     "output_type": "stream",
     "text": [
      "Some weights of BertForSequenceClassification were not initialized from the model checkpoint at prajjwal1/bert-tiny and are newly initialized: ['classifier.bias', 'classifier.weight']\n",
      "You should probably TRAIN this model on a down-stream task to be able to use it for predictions and inference.\n"
     ]
    },
    {
     "name": "stdout",
     "output_type": "stream",
     "text": [
      "\n",
      "-------- Loading configuration --------\n",
      "Current configuration:\n",
      "{\n",
      "    \"concurrency_flag\": false,\n",
      "    \"data_distribution\": \"iid\",\n",
      "    \"dataset\": \"reddit_dep\",\n",
      "    \"device\": \"cuda\",\n",
      "    \"dp_delta\": 0.003,\n",
      "    \"dp_epsilon\": 0,\n",
      "    \"eval_batch_size\": 2,\n",
      "    \"eval_flag\": true,\n",
      "    \"eval_size\": 0.8,\n",
      "    \"learning_rate\": 6e-05,\n",
      "    \"max_length\": 512,\n",
      "    \"ml_mode\": \"bcfl\",\n",
      "    \"model\": \"bert_tiny\",\n",
      "    \"model_name\": \"bert_tiny\",\n",
      "    \"models_path\": \"client/models/bert_tiny\",\n",
      "    \"num_clients\": 2,\n",
      "    \"num_epochs\": 1,\n",
      "    \"num_rounds\": 2,\n",
      "    \"optimizer\": \"AdamW\",\n",
      "    \"progress_bar_flag\": true,\n",
      "    \"scheduler\": \"linear\",\n",
      "    \"scheduler_warmup_steps\": 0,\n",
      "    \"seed\": 200,\n",
      "    \"train_batch_size\": 4,\n",
      "    \"train_size\": 0.2\n",
      "}\n",
      "-------- Configuration loaded --------\n",
      "\n",
      "-------- Setting device --------\n",
      "CUDA device selected and available.\n",
      "-------- Device set --------\n",
      "\n",
      "-------- Setting seed --------\n",
      "-------- Seed set --------\n",
      "\n",
      "-------- Creating Model --------\n",
      "-------- Model created --------\n",
      "\n",
      "-------- Creating Tokenizer --------\n",
      "-------- Tokenizer created --------\n",
      "\n",
      "-------- Creating Train and Eval Dataloaders --------\n",
      "Train Loader: 496 total sentences. 124 batches of size 4.\n",
      "Eval Loader: 1982 total sentences. 991 batches of size 2.\n",
      "-------- Train and Eval Dataloaders created --------\n",
      "\n",
      "-------- Training --------\n",
      "Training with Blockchain-Based Federated Learning technology.\n",
      "Training without differential privacy.\n"
     ]
    },
    {
     "data": {
      "application/vnd.jupyter.widget-view+json": {
       "model_id": "3f35f82b109c45d7bb519d544721b7e7",
       "version_major": 2,
       "version_minor": 0
      },
      "text/plain": [
       "  0%|          | 0/2230 [00:00<?, ?it/s]"
      ]
     },
     "metadata": {},
     "output_type": "display_data"
    },
    {
     "name": "stdout",
     "output_type": "stream",
     "text": [
      "\n",
      "Round 1 of 2\n",
      "-------------------------------\n",
      "Client 1 of 2: Local Epoch [1/1] Loss: 0.6237, Accuracy: 68.55 %\n",
      "Client 2 of 2: Local Epoch [1/1] Loss: 0.6073, Accuracy: 71.77 %\n",
      "-------------------------------\n",
      "Round [1/2] Average Local Loss: 0.6155, Average Local Accuracy: 70.16 %\n",
      "-------------------------------\n",
      "-------- Validation --------\n",
      "Round [1/2] Global Model Validation Loss: 0.5806, Validation Accuracy: 73.16 %\n",
      "-------- Validation finished --------\n",
      "Updated best model in round 1 saved with Validation Accuracy: 73.16 %\n",
      "-------------------------------\n",
      "\n",
      "Round 2 of 2\n",
      "-------------------------------\n",
      "Client 1 of 2: Local Epoch [1/1] Loss: 0.5927, Accuracy: 70.56 %\n",
      "Client 2 of 2: Local Epoch [1/1] Loss: 0.5868, Accuracy: 72.18 %\n",
      "-------------------------------\n",
      "Round [2/2] Average Local Loss: 0.5898, Average Local Accuracy: 71.37 %\n",
      "-------------------------------\n",
      "-------- Validation --------\n",
      "Round [2/2] Global Model Validation Loss: 0.5636, Validation Accuracy: 73.16 %\n",
      "-------- Validation finished --------\n",
      "Updated best model in round 2 saved with Validation Accuracy: 73.16 %\n",
      "-------------------------------\n",
      "Best model in round 2 saved with Validation Accuracy: 73.16 %\n",
      "-------- Training finished --------\n"
     ]
    }
   ],
   "source": [
    "from client.run_train import main\n",
    "import sys\n",
    "import torch\n",
    "# torch.autograd.set_detect_anomaly(True)\n",
    "\n",
    "# Backup the original sys.argv\n",
    "original_argv = sys.argv\n",
    "\n",
    "try:\n",
    "    # Replace sys.argv with the arguments you want to pass\n",
    "    sys.argv = ['run_train', '--config_file', 'client/config/train/bcfl_config.json']\n",
    "    # sys.argv = ['run_train']\n",
    "\n",
    "    \n",
    "    # Now call main, and it will use the arguments you set\n",
    "    main()\n",
    "finally:\n",
    "    # Restore the original sys.argv\n",
    "    sys.argv = original_argv\n",
    "    "
   ]
  }
 ],
 "metadata": {
  "kernelspec": {
   "display_name": "bcfl-fabric",
   "language": "python",
   "name": "python3"
  },
  "language_info": {
   "codemirror_mode": {
    "name": "ipython",
    "version": 3
   },
   "file_extension": ".py",
   "mimetype": "text/x-python",
   "name": "python",
   "nbconvert_exporter": "python",
   "pygments_lexer": "ipython3",
   "version": "3.11.7"
  }
 },
 "nbformat": 4,
 "nbformat_minor": 2
}
